{
 "cells": [
  {
   "cell_type": "markdown",
   "id": "565700c3-7770-4340-88df-b103b96e07c9",
   "metadata": {},
   "source": [
    "## Concatenación de archivos\n",
    "\n",
    "*Ladino Álvarez Ricardo Arturo*\n",
    "\n",
    "El siguiente código está diseñado para demostrar un enfoque eficiente en la concatenación de múltiples archivos en un único conjunto de datos.\n",
    "\n",
    "#-> Para más información sobre el tema consultar: https://pandas.pydata.org/docs/user_guide/merging.html"
   ]
  },
  {
   "cell_type": "code",
   "execution_count": 1,
   "id": "63e1061c-a0da-4acd-bc11-2466ad1ccbe0",
   "metadata": {},
   "outputs": [],
   "source": [
    "### Librerias\n",
    "\n",
    "import os\n",
    "import glob\n",
    "import pandas as pd\n",
    "\n",
    "### Rutas de entrada y salida\n",
    "\n",
    "Entrada = 'C:/Users/LAAR8976/Ladino_ALL/CECTI/DASHBOARD/TABLAS_FINALES/'\n",
    "Salida = 'C:/Users/LAAR8976/Ladino_ALL/CECTI/DASHBOARD/TABLAS_FINALES/'"
   ]
  },
  {
   "cell_type": "markdown",
   "id": "6923d9aa-eb75-4f74-a3f9-3b73d2a7f1b1",
   "metadata": {},
   "source": [
    "> El código esta adaptado para manejar excepciones y evitar que un error en un archivo detenga todo el proceso."
   ]
  },
  {
   "cell_type": "code",
   "execution_count": 2,
   "id": "71b36d83-620c-4227-8302-bce1ab9f5643",
   "metadata": {},
   "outputs": [
    {
     "name": "stdout",
     "output_type": "stream",
     "text": [
      "Se encontraron 6 archivos\n"
     ]
    }
   ],
   "source": [
    "### Usar glob para obtener una lista de todos los archivos .xlsx en la carpeta\n",
    "### Se puede cambiar '*.xlsx' por otro tipo de archivo\n",
    "Archivos_ = glob.glob(os.path.join(Entrada, '*.xlsx'))\n",
    "\n",
    "### Siempre es necesario verificar si se encontraron o no los archivos solicitados\n",
    "### En el caso que no se encuentres los archivos se recomienda detener el Kernel para eso activar \"exit()\"\n",
    "if not Archivos_:\n",
    "    print(\"No se encontraron archivos de Excel en la ruta especificada.\")\n",
    "    #exit()\n",
    "else:\n",
    "    print(f\"Se encontraron {len(Archivos_)} archivos\")\n"
   ]
  },
  {
   "cell_type": "code",
   "execution_count": 3,
   "id": "5d10149b-f45d-44d1-8472-516cbd84bf22",
   "metadata": {},
   "outputs": [
    {
     "name": "stdout",
     "output_type": "stream",
     "text": [
      "Archivo cargado: C:/Users/LAAR8976/Ladino_ALL/CECTI/DASHBOARD/TABLAS_FINALES\\R6_16A_F.xlsx\n",
      "Archivo cargado: C:/Users/LAAR8976/Ladino_ALL/CECTI/DASHBOARD/TABLAS_FINALES\\R6_22B_F.xlsx\n",
      "Archivo cargado: C:/Users/LAAR8976/Ladino_ALL/CECTI/DASHBOARD/TABLAS_FINALES\\R6_25A_F.xlsx\n",
      "Archivo cargado: C:/Users/LAAR8976/Ladino_ALL/CECTI/DASHBOARD/TABLAS_FINALES\\R6_29B_F.xlsx\n",
      "Archivo cargado: C:/Users/LAAR8976/Ladino_ALL/CECTI/DASHBOARD/TABLAS_FINALES\\R6_32C_F.xlsx\n",
      "Archivo cargado: C:/Users/LAAR8976/Ladino_ALL/CECTI/DASHBOARD/TABLAS_FINALES\\R6_5B_F.xlsx\n"
     ]
    }
   ],
   "source": [
    "### Se inicializa una lista para almacenar cada uno de los libros los cuales\n",
    "### se guardaran temporalmente en python como DataFrames\n",
    "Lista_Libros = []\n",
    "# Itera sobre cada archivo y lo lee\n",
    "for Archivos in Archivos_:\n",
    "    try:\n",
    "        # Lee el archivo Excel en un DataFrame\n",
    "        Dat_Fra = pd.read_excel(Archivos)\n",
    "        # Añade el DataFrame a la lista\n",
    "        Lista_Libros.append(Dat_Fra)\n",
    "        print(f\"Archivo cargado: {Archivos}\")\n",
    "    except Exception as e:\n",
    "        print(f\"Error al leer {Archivos}: {e}\")"
   ]
  },
  {
   "cell_type": "code",
   "execution_count": 4,
   "id": "4ba3887c-4290-4453-b69f-57aa6f018bf7",
   "metadata": {},
   "outputs": [
    {
     "data": {
      "text/html": [
       "<div>\n",
       "<style scoped>\n",
       "    .dataframe tbody tr th:only-of-type {\n",
       "        vertical-align: middle;\n",
       "    }\n",
       "\n",
       "    .dataframe tbody tr th {\n",
       "        vertical-align: top;\n",
       "    }\n",
       "\n",
       "    .dataframe thead th {\n",
       "        text-align: right;\n",
       "    }\n",
       "</style>\n",
       "<table border=\"1\" class=\"dataframe\">\n",
       "  <thead>\n",
       "    <tr style=\"text-align: right;\">\n",
       "      <th></th>\n",
       "      <th>CVE_UNIDAD</th>\n",
       "      <th>UNIDAD</th>\n",
       "      <th>UAD</th>\n",
       "      <th>EMPLEADO</th>\n",
       "      <th>NOMBRE_EMP</th>\n",
       "      <th>RFC_CORTO</th>\n",
       "      <th>GENERAL</th>\n",
       "      <th>GENERAL_DES</th>\n",
       "      <th>TIPO</th>\n",
       "      <th>PUESTO</th>\n",
       "      <th>...</th>\n",
       "      <th>APLICATIVO</th>\n",
       "      <th>CLAVE_SERVICIO</th>\n",
       "      <th>SERVICIO</th>\n",
       "      <th>ALCANCE_ROL</th>\n",
       "      <th>PREVE_OBS</th>\n",
       "      <th>PTO_RIESGO</th>\n",
       "      <th>DENUNCIAS</th>\n",
       "      <th>NIVEL_ATENCION</th>\n",
       "      <th>FOLIO</th>\n",
       "      <th>ESTATUS</th>\n",
       "    </tr>\n",
       "  </thead>\n",
       "  <tbody>\n",
       "    <tr>\n",
       "      <th>0</th>\n",
       "      <td>R6_16A</td>\n",
       "      <td>MORELOS 1</td>\n",
       "      <td>CUERNAVACA</td>\n",
       "      <td>63252</td>\n",
       "      <td>HUERTA TORRES LIZETTE YARELI</td>\n",
       "      <td>HUTL785T</td>\n",
       "      <td>AGSC</td>\n",
       "      <td>ADMINISTRACIÓN GENERAL DE SERVICIOS AL CONTRIB...</td>\n",
       "      <td>CONFIANZA</td>\n",
       "      <td>SC6380</td>\n",
       "      <td>...</td>\n",
       "      <td>CUENTA TRIBUTARIA</td>\n",
       "      <td>CT</td>\n",
       "      <td>CUENTA TRIBUTARIA</td>\n",
       "      <td>PERSONAL DEL SAT Y CONTRIBUYENTE QUE REQUIEREN...</td>\n",
       "      <td>APROBADO</td>\n",
       "      <td>SI</td>\n",
       "      <td>4</td>\n",
       "      <td>MEDIO</td>\n",
       "      <td>42710.0</td>\n",
       "      <td>PROCEDENTE</td>\n",
       "    </tr>\n",
       "    <tr>\n",
       "      <th>1</th>\n",
       "      <td>R6_16A</td>\n",
       "      <td>MORELOS 1</td>\n",
       "      <td>CUERNAVACA</td>\n",
       "      <td>63252</td>\n",
       "      <td>HUERTA TORRES LIZETTE YARELI</td>\n",
       "      <td>HUTL785T</td>\n",
       "      <td>AGSC</td>\n",
       "      <td>ADMINISTRACIÓN GENERAL DE SERVICIOS AL CONTRIB...</td>\n",
       "      <td>CONFIANZA</td>\n",
       "      <td>SC6380</td>\n",
       "      <td>...</td>\n",
       "      <td>CUENTA TRIBUTARIA</td>\n",
       "      <td>CT</td>\n",
       "      <td>CUENTA TRIBUTARIA</td>\n",
       "      <td>PERSONAL DEL SAT Y CONTRIBUYENTE QUE REQUIEREN...</td>\n",
       "      <td>APROBADO</td>\n",
       "      <td>SI</td>\n",
       "      <td>4</td>\n",
       "      <td>MEDIO</td>\n",
       "      <td>38116.0</td>\n",
       "      <td>PROCEDENTE</td>\n",
       "    </tr>\n",
       "  </tbody>\n",
       "</table>\n",
       "<p>2 rows × 24 columns</p>\n",
       "</div>"
      ],
      "text/plain": [
       "  CVE_UNIDAD     UNIDAD         UAD  EMPLEADO                    NOMBRE_EMP  \\\n",
       "0     R6_16A  MORELOS 1  CUERNAVACA     63252  HUERTA TORRES LIZETTE YARELI   \n",
       "1     R6_16A  MORELOS 1  CUERNAVACA     63252  HUERTA TORRES LIZETTE YARELI   \n",
       "\n",
       "  RFC_CORTO GENERAL                                        GENERAL_DES  \\\n",
       "0  HUTL785T    AGSC  ADMINISTRACIÓN GENERAL DE SERVICIOS AL CONTRIB...   \n",
       "1  HUTL785T    AGSC  ADMINISTRACIÓN GENERAL DE SERVICIOS AL CONTRIB...   \n",
       "\n",
       "        TIPO  PUESTO  ...         APLICATIVO CLAVE_SERVICIO  \\\n",
       "0  CONFIANZA  SC6380  ...  CUENTA TRIBUTARIA             CT   \n",
       "1  CONFIANZA  SC6380  ...  CUENTA TRIBUTARIA             CT   \n",
       "\n",
       "            SERVICIO                                        ALCANCE_ROL  \\\n",
       "0  CUENTA TRIBUTARIA  PERSONAL DEL SAT Y CONTRIBUYENTE QUE REQUIEREN...   \n",
       "1  CUENTA TRIBUTARIA  PERSONAL DEL SAT Y CONTRIBUYENTE QUE REQUIEREN...   \n",
       "\n",
       "  PREVE_OBS PTO_RIESGO DENUNCIAS NIVEL_ATENCION    FOLIO     ESTATUS  \n",
       "0  APROBADO         SI         4          MEDIO  42710.0  PROCEDENTE  \n",
       "1  APROBADO         SI         4          MEDIO  38116.0  PROCEDENTE  \n",
       "\n",
       "[2 rows x 24 columns]"
      ]
     },
     "execution_count": 4,
     "metadata": {},
     "output_type": "execute_result"
    }
   ],
   "source": [
    "Lista_Libros[0].head(2)"
   ]
  },
  {
   "cell_type": "code",
   "execution_count": 5,
   "id": "5db2bbaf-bd27-458d-a84e-1b9193590b4b",
   "metadata": {},
   "outputs": [
    {
     "name": "stdout",
     "output_type": "stream",
     "text": [
      "Todos los archivos se han concatenado exitosamente\n"
     ]
    }
   ],
   "source": [
    "### Concatenación de los Dataframes\n",
    "if Lista_Libros:\n",
    "    try:\n",
    "        ### Se concatenan todos los archivos en uno solo\n",
    "        Concatenado = pd.concat(Lista_Libros, ignore_index=True)\n",
    "        ### Se exporta el archivo como uno solo, ese puede ser en formato \"xlsx\" o \"pkl\", se recomienda \"pkl\"\n",
    "        \n",
    "        #Concatenado.to_excel('Concatenado.xlsx', index=False)\n",
    "        #Concatenado.to_pickle('Concatenado.pkl')\n",
    "        \n",
    "        print(\"Todos los archivos se han concatenado exitosamente\")\n",
    "    except Exception as e:\n",
    "        print(f\"Error al concatenar los DataFrames: {e}\")\n",
    "else:\n",
    "    print(\"No se cargaron DataFrames para concatenar.\")"
   ]
  },
  {
   "cell_type": "code",
   "execution_count": 6,
   "id": "d088dacc-f76c-4b20-9f7d-ab3fda94b8e4",
   "metadata": {},
   "outputs": [
    {
     "data": {
      "text/plain": [
       "(10156, 25)"
      ]
     },
     "execution_count": 6,
     "metadata": {},
     "output_type": "execute_result"
    }
   ],
   "source": [
    "Concatenado.shape"
   ]
  },
  {
   "cell_type": "code",
   "execution_count": 7,
   "id": "72a0c1c8-4745-449b-8ea5-669b6d50ed4e",
   "metadata": {},
   "outputs": [
    {
     "data": {
      "text/plain": [
       "array(['CUERNAVACA', 'CANCUN', 'HERMOSILLO', 'VERACRUZ',\n",
       "       'ORIENTE DE LA CIUDAD DE MÉXICO', 'TORREON'], dtype=object)"
      ]
     },
     "execution_count": 7,
     "metadata": {},
     "output_type": "execute_result"
    }
   ],
   "source": [
    "Concatenado.UAD.unique()"
   ]
  },
  {
   "cell_type": "markdown",
   "id": "40f7be53-9ef6-460b-82fe-1cf2937aa199",
   "metadata": {},
   "source": [
    "### Cuando un archivo _NO_ es igual"
   ]
  },
  {
   "cell_type": "code",
   "execution_count": 8,
   "id": "51c9a788-3085-44cc-9eb8-d421a2519474",
   "metadata": {},
   "outputs": [
    {
     "name": "stdout",
     "output_type": "stream",
     "text": [
      "Archivo cargado: C:/Users/LAAR8976/Ladino_ALL/CECTI/DASHBOARD/TABLAS_FINALES\\R6_16A_F.xlsx\n",
      "Archivo cargado: C:/Users/LAAR8976/Ladino_ALL/CECTI/DASHBOARD/TABLAS_FINALES\\R6_22B_F.xlsx\n",
      "Archivo cargado: C:/Users/LAAR8976/Ladino_ALL/CECTI/DASHBOARD/TABLAS_FINALES\\R6_25A_F.xlsx\n",
      "Las columnas del archivo C:/Users/LAAR8976/Ladino_ALL/CECTI/DASHBOARD/TABLAS_FINALES\\R6_29B_F.xlsx no coinciden con las de los demás archivos.\n",
      "Archivo cargado: C:/Users/LAAR8976/Ladino_ALL/CECTI/DASHBOARD/TABLAS_FINALES\\R6_29B_F.xlsx\n",
      "Archivo cargado: C:/Users/LAAR8976/Ladino_ALL/CECTI/DASHBOARD/TABLAS_FINALES\\R6_32C_F.xlsx\n",
      "Archivo cargado: C:/Users/LAAR8976/Ladino_ALL/CECTI/DASHBOARD/TABLAS_FINALES\\R6_5B_F.xlsx\n"
     ]
    }
   ],
   "source": [
    "lista_dfs = []\n",
    "columnas_referencia = None\n",
    "for archivo in Archivos_:\n",
    "    try:\n",
    "        df = pd.read_excel(archivo)\n",
    "        ###  Del primer archivo se guardan los nombres de las columnas como valores de referencia\n",
    "        if columnas_referencia is None:\n",
    "            columnas_referencia = set(df.columns)\n",
    "        else:\n",
    "            ### Se deben verifica que las columnas coincidan con las de referencia, si esto sucede se continua\n",
    "            ### en caso de no ser así, se tiene la opción de detener el códido con \"exit()\"\n",
    "            if set(df.columns) != columnas_referencia:\n",
    "                print(f\"Las columnas del archivo {archivo} no coinciden con las de los demás archivos.\")\n",
    "                #exit()\n",
    "        \n",
    "        ### Los dataframes que cumplen con la condición se añaden a la lista\n",
    "        lista_dfs.append(df)\n",
    "        print(f\"Archivo cargado: {archivo}\")\n",
    "        ### Los dataframes que no cumplen con la condición no se añaden a la lista\n",
    "    except Exception as e:\n",
    "        print(f\"Error al leer \\n {archivo}: {e}\")"
   ]
  },
  {
   "cell_type": "code",
   "execution_count": 10,
   "id": "23348583-5f64-4f1b-8358-2d8f1999d7dd",
   "metadata": {},
   "outputs": [
    {
     "name": "stdout",
     "output_type": "stream",
     "text": [
      "Archivo cargado: C:/Users/LAAR8976/Ladino_ALL/CECTI/DASHBOARD/TABLAS_FINALES\\R6_16A_F.xlsx\n",
      "Archivo cargado: C:/Users/LAAR8976/Ladino_ALL/CECTI/DASHBOARD/TABLAS_FINALES\\R6_22B_F.xlsx\n",
      "Archivo cargado: C:/Users/LAAR8976/Ladino_ALL/CECTI/DASHBOARD/TABLAS_FINALES\\R6_25A_F.xlsx\n",
      "Archivo omitido (columnas no coinciden): C:/Users/LAAR8976/Ladino_ALL/CECTI/DASHBOARD/TABLAS_FINALES\\R6_29B_F.xlsx\n",
      "Archivo cargado: C:/Users/LAAR8976/Ladino_ALL/CECTI/DASHBOARD/TABLAS_FINALES\\R6_32C_F.xlsx\n",
      "Archivo cargado: C:/Users/LAAR8976/Ladino_ALL/CECTI/DASHBOARD/TABLAS_FINALES\\R6_5B_F.xlsx\n"
     ]
    }
   ],
   "source": [
    "lista_dfs = []\n",
    "columnas_referencia = None\n",
    "for archivo in Archivos_:\n",
    "    try:\n",
    "        df = pd.read_excel(archivo)\n",
    "### Si columnas_referencia es None, esto significa que es el primer archivo que esta siendo procesado y sera la base\n",
    "        if columnas_referencia is None:\n",
    "            ### Se almacenan las columnas del primer archivo como referencia\n",
    "            columnas_referencia = set(df.columns)\n",
    "            ### Se añade el DataFrame del primer archivo a la lista que se crea al inicio\n",
    "            lista_dfs.append(df)\n",
    "            print(f\"Archivo cargado: {archivo}\")\n",
    "### Si no es el primer archivo, verifica si las columnas coinciden con las de referencia\n",
    "        else:\n",
    "            ### Se comparan las columnas del archivo actual con las de referencia\n",
    "            if set(df.columns) == columnas_referencia:\n",
    "                ### Se añade el DataFrame a la lista creada al inicio solo si las columnas coinciden\n",
    "                lista_dfs.append(df)\n",
    "                print(f\"Archivo cargado: {archivo}\")\n",
    "            else:\n",
    "                ### Se debe informar cual es el archivo que se omitido por la(s) columna(s) que no coinciden\n",
    "                print(f\"Archivo omitido (columnas no coinciden): {archivo}\")\n",
    "    except Exception as e:\n",
    "        print(f\"Error al leer {archivo}: {e}\")"
   ]
  },
  {
   "cell_type": "code",
   "execution_count": 11,
   "id": "8f56a67f-9de9-466f-8ea8-12b84f253f4d",
   "metadata": {},
   "outputs": [
    {
     "name": "stdout",
     "output_type": "stream",
     "text": [
      "Todos los archivos se han concatenado exitosamente\n"
     ]
    }
   ],
   "source": [
    "### Concatenación\n",
    "if lista_dfs:\n",
    "    try:\n",
    "        df_concatenado = pd.concat(lista_dfs, ignore_index=True)\n",
    "        #df_concatenado.to_excel('Concatenado.xlsx', index=False)\n",
    "        #df_concatenado.to_pickle('Concatenado.pkl')\n",
    "        print(\"Todos los archivos se han concatenado exitosamente\")\n",
    "    except Exception as e:\n",
    "        print(f\"Error al concatenar los DataFrames: {e}\")\n",
    "else:\n",
    "    print(\"No se cargaron DataFrames para concatenar.\")"
   ]
  },
  {
   "cell_type": "code",
   "execution_count": 13,
   "id": "3cf2cd37-d9fe-4272-b62a-959a14c427aa",
   "metadata": {},
   "outputs": [
    {
     "data": {
      "text/plain": [
       "(7757, 24)"
      ]
     },
     "execution_count": 13,
     "metadata": {},
     "output_type": "execute_result"
    }
   ],
   "source": [
    "df_concatenado.shape"
   ]
  },
  {
   "cell_type": "code",
   "execution_count": 14,
   "id": "ef40be0f-fc9b-4c93-a517-4eaf216c0319",
   "metadata": {},
   "outputs": [
    {
     "data": {
      "text/plain": [
       "array(['CUERNAVACA', 'CANCUN', 'HERMOSILLO',\n",
       "       'ORIENTE DE LA CIUDAD DE MÉXICO', 'TORREON'], dtype=object)"
      ]
     },
     "execution_count": 14,
     "metadata": {},
     "output_type": "execute_result"
    }
   ],
   "source": [
    "df_concatenado.UAD.unique()"
   ]
  }
 ],
 "metadata": {
  "kernelspec": {
   "display_name": "Python 3 (ipykernel)",
   "language": "python",
   "name": "python3"
  },
  "language_info": {
   "codemirror_mode": {
    "name": "ipython",
    "version": 3
   },
   "file_extension": ".py",
   "mimetype": "text/x-python",
   "name": "python",
   "nbconvert_exporter": "python",
   "pygments_lexer": "ipython3",
   "version": "3.11.5"
  }
 },
 "nbformat": 4,
 "nbformat_minor": 5
}
