{
 "cells": [
  {
   "cell_type": "markdown",
   "id": "565700c3-7770-4340-88df-b103b96e07c9",
   "metadata": {},
   "source": [
    "## Concatenación de archivos\n",
    "\n",
    "*Ladino Álvarez Ricardo Arturo*\n",
    "\n",
    "El siguiente código está diseñado para demostrar un enfoque eficiente en la concatenación de múltiples archivos en un único conjunto de datos.\n",
    "\n",
    "#-> Para más información sobre el tema consultar: https://pandas.pydata.org/docs/user_guide/merging.html"
   ]
  },
  {
   "cell_type": "code",
   "execution_count": 1,
   "id": "63e1061c-a0da-4acd-bc11-2466ad1ccbe0",
   "metadata": {},
   "outputs": [],
   "source": [
    "### Librerias\n",
    "\n",
    "import os\n",
    "import glob\n",
    "import pandas as pd\n",
    "\n",
    "### Rutas de entrada y salida\n",
    "\n",
    "Entrada = 'C:/Users/LAAR8976/Ladino_ALL/CECTI/DASHBOARD/TABLAS_FINALES/'\n",
    "Salida = 'C:/Users/LAAR8976/Ladino_ALL/CECTI/DASHBOARD/TABLAS_FINALES/'"
   ]
  },
  {
   "cell_type": "markdown",
   "id": "6923d9aa-eb75-4f74-a3f9-3b73d2a7f1b1",
   "metadata": {},
   "source": [
    "> El código esta adaptado para manejar excepciones y evitar que un error en un archivo detenga todo el proceso."
   ]
  },
  {
   "cell_type": "code",
   "execution_count": 2,
   "id": "71b36d83-620c-4227-8302-bce1ab9f5643",
   "metadata": {},
   "outputs": [
    {
     "name": "stdout",
     "output_type": "stream",
     "text": [
      "Se encontraron 6 archivos\n"
     ]
    }
   ],
   "source": [
    "### Usar glob para obtener una lista de todos los archivos .xlsx en la carpeta\n",
    "### Se puede cambiar '*.xlsx' por otro tipo de archivo\n",
    "Archivos_ = glob.glob(os.path.join(Entrada, '*.xlsx'))\n",
    "\n",
    "### Siempre es necesario verificar si se encontraron o no los archivos solicitados\n",
    "### En el caso que no se encuentres los archivos se recomienda detener el Kernel para eso activar \"exit()\"\n",
    "if not Archivos_:\n",
    "    print(\"No se encontraron archivos de Excel en la ruta especificada.\")\n",
    "    #exit()\n",
    "else:\n",
    "    print(f\"Se encontraron {len(Archivos_)} archivos\")\n"
   ]
  },
  {
   "cell_type": "code",
   "execution_count": 3,
   "id": "5d10149b-f45d-44d1-8472-516cbd84bf22",
   "metadata": {},
   "outputs": [
    {
     "name": "stdout",
     "output_type": "stream",
     "text": [
      "Archivo cargado: C:/Users/LAAR8976/Ladino_ALL/CECTI/DASHBOARD/TABLAS_FINALES\\R6_16A_F.xlsx\n",
      "Archivo cargado: C:/Users/LAAR8976/Ladino_ALL/CECTI/DASHBOARD/TABLAS_FINALES\\R6_22B_F.xlsx\n",
      "Archivo cargado: C:/Users/LAAR8976/Ladino_ALL/CECTI/DASHBOARD/TABLAS_FINALES\\R6_25A_F.xlsx\n",
      "Archivo cargado: C:/Users/LAAR8976/Ladino_ALL/CECTI/DASHBOARD/TABLAS_FINALES\\R6_29B_F.xlsx\n",
      "Archivo cargado: C:/Users/LAAR8976/Ladino_ALL/CECTI/DASHBOARD/TABLAS_FINALES\\R6_32C_F.xlsx\n",
      "Archivo cargado: C:/Users/LAAR8976/Ladino_ALL/CECTI/DASHBOARD/TABLAS_FINALES\\R6_5B_F.xlsx\n"
     ]
    }
   ],
   "source": [
    "### Se inicializa una lista para almacenar cada uno de los libros los cuales\n",
    "### se guardaran temporalmente en python como DataFrames\n",
    "Lista_Libros = []\n",
    "# Itera sobre cada archivo y lo lee\n",
    "for Archivos in Archivos_:\n",
    "    try:\n",
    "        # Lee el archivo Excel en un DataFrame\n",
    "        Dat_Fra = pd.read_excel(Archivos)\n",
    "        # Añade el DataFrame a la lista\n",
    "        Lista_Libros.append(Dat_Fra)\n",
    "        print(f\"Archivo cargado: {Archivos}\")\n",
    "    except Exception as e:\n",
    "        print(f\"Error al leer {Archivos}: {e}\")"
   ]
  },
  {
   "cell_type": "code",
   "execution_count": 16,
   "id": "5db2bbaf-bd27-458d-a84e-1b9193590b4b",
   "metadata": {},
   "outputs": [
    {
     "name": "stdout",
     "output_type": "stream",
     "text": [
      "Todos los archivos se han concatenado exitosamente\n"
     ]
    }
   ],
   "source": [
    "### Concatenación de los Dataframes\n",
    "if Lista_Libros:\n",
    "    try:\n",
    "        ### Se concatenan todos los archivos en uno solo\n",
    "        Concatenado = pd.concat(Lista_Libros, ignore_index=True)\n",
    "        ### Se exporta el archivo como uno solo, ese puede ser en formato \"xlsx\" o \"pkl\", se recomienda \"pkl\"\n",
    "        \n",
    "        #Concatenado.to_excel('Concatenado.xlsx', index=False)\n",
    "        #Concatenado.to_pickle('Concatenado.pkl')\n",
    "        \n",
    "        print(\"Todos los archivos se han concatenado exitosamente\")\n",
    "    except Exception as e:\n",
    "        print(f\"Error al concatenar los DataFrames: {e}\")\n",
    "else:\n",
    "    print(\"No se cargaron DataFrames para concatenar.\")"
   ]
  },
  {
   "cell_type": "code",
   "execution_count": 6,
   "id": "d088dacc-f76c-4b20-9f7d-ab3fda94b8e4",
   "metadata": {},
   "outputs": [
    {
     "data": {
      "text/plain": [
       "(10156, 25)"
      ]
     },
     "execution_count": 6,
     "metadata": {},
     "output_type": "execute_result"
    }
   ],
   "source": [
    "Concatenado.shape"
   ]
  },
  {
   "cell_type": "code",
   "execution_count": 7,
   "id": "72a0c1c8-4745-449b-8ea5-669b6d50ed4e",
   "metadata": {},
   "outputs": [
    {
     "data": {
      "text/plain": [
       "array(['CUERNAVACA', 'CANCUN', 'HERMOSILLO', 'VERACRUZ',\n",
       "       'ORIENTE DE LA CIUDAD DE MÉXICO', 'TORREON'], dtype=object)"
      ]
     },
     "execution_count": 7,
     "metadata": {},
     "output_type": "execute_result"
    }
   ],
   "source": [
    "Concatenado.UAD.unique()"
   ]
  },
  {
   "cell_type": "markdown",
   "id": "40f7be53-9ef6-460b-82fe-1cf2937aa199",
   "metadata": {},
   "source": [
    "### Cuando un archivo _NO_ es igual"
   ]
  },
  {
   "cell_type": "code",
   "execution_count": 18,
   "id": "23348583-5f64-4f1b-8358-2d8f1999d7dd",
   "metadata": {},
   "outputs": [
    {
     "name": "stdout",
     "output_type": "stream",
     "text": [
      "Archivo cargado: C:/Users/LAAR8976/Ladino_ALL/CECTI/DASHBOARD/TABLAS_FINALES\\R6_16A_F.xlsx\n",
      "Archivo cargado: C:/Users/LAAR8976/Ladino_ALL/CECTI/DASHBOARD/TABLAS_FINALES\\R6_22B_F.xlsx\n",
      "Archivo cargado: C:/Users/LAAR8976/Ladino_ALL/CECTI/DASHBOARD/TABLAS_FINALES\\R6_25A_F.xlsx\n",
      "Archivo cargado: C:/Users/LAAR8976/Ladino_ALL/CECTI/DASHBOARD/TABLAS_FINALES\\R6_29B_F.xlsx\n",
      "Archivo cargado: C:/Users/LAAR8976/Ladino_ALL/CECTI/DASHBOARD/TABLAS_FINALES\\R6_32C_F.xlsx\n",
      "Archivo cargado: C:/Users/LAAR8976/Ladino_ALL/CECTI/DASHBOARD/TABLAS_FINALES\\R6_5B_F.xlsx\n"
     ]
    }
   ],
   "source": [
    "lista_dfs = []\n",
    "columnas_referencia = None\n",
    "for archivo in Archivos_:\n",
    "    try:\n",
    "        df = pd.read_excel(archivo)\n",
    "### Si columnas_referencia es None, esto significa que es el primer archivo que esta siendo procesado y sera la base\n",
    "        if columnas_referencia is None:\n",
    "            ### Se almacenan las columnas del primer archivo como referencia\n",
    "            columnas_referencia = set(df.columns)\n",
    "            ### Se añade el DataFrame del primer archivo a la lista que se crea al inicio\n",
    "            lista_dfs.append(df)\n",
    "            print(f\"Archivo cargado: {archivo}\")\n",
    "### Si no es el primer archivo, verifica si las columnas coinciden con las de referencia\n",
    "        else:\n",
    "            ### Se comparan las columnas del archivo actual con las de referencia\n",
    "            if set(df.columns) == columnas_referencia:\n",
    "                ### Se añade el DataFrame a la lista creada al inicio solo si las columnas coinciden\n",
    "                lista_dfs.append(df)\n",
    "                print(f\"Archivo cargado: {archivo}\")\n",
    "            else:\n",
    "                ### Se debe informar cual es el archivo que se omitido por la(s) columna(s) que no coinciden\n",
    "                print(f\"Archivo omitido (columnas no coinciden): {archivo}\")\n",
    "    except Exception as e:\n",
    "        print(f\"Error al leer {archivo}: {e}\")"
   ]
  },
  {
   "cell_type": "code",
   "execution_count": 19,
   "id": "8f56a67f-9de9-466f-8ea8-12b84f253f4d",
   "metadata": {},
   "outputs": [
    {
     "name": "stdout",
     "output_type": "stream",
     "text": [
      "Todos los archivos se han concatenado exitosamente\n"
     ]
    }
   ],
   "source": [
    "### Concatenación\n",
    "if lista_dfs:\n",
    "    try:\n",
    "        df_concatenado = pd.concat(lista_dfs, ignore_index=True)\n",
    "        #df_concatenado.to_excel('Concatenado.xlsx', index=False)\n",
    "        #df_concatenado.to_pickle('Concatenado.pkl')\n",
    "        print(\"Todos los archivos se han concatenado exitosamente\")\n",
    "    except Exception as e:\n",
    "        print(f\"Error al concatenar los DataFrames: {e}\")\n",
    "else:\n",
    "    print(\"No se cargaron DataFrames para concatenar.\")"
   ]
  },
  {
   "cell_type": "code",
   "execution_count": 20,
   "id": "3cf2cd37-d9fe-4272-b62a-959a14c427aa",
   "metadata": {},
   "outputs": [
    {
     "data": {
      "text/plain": [
       "(10156, 24)"
      ]
     },
     "execution_count": 20,
     "metadata": {},
     "output_type": "execute_result"
    }
   ],
   "source": [
    "df_concatenado.shape"
   ]
  },
  {
   "cell_type": "code",
   "execution_count": 21,
   "id": "ef40be0f-fc9b-4c93-a517-4eaf216c0319",
   "metadata": {},
   "outputs": [
    {
     "data": {
      "text/plain": [
       "array(['CUERNAVACA', 'CANCUN', 'HERMOSILLO', 'VERACRUZ',\n",
       "       'ORIENTE DE LA CIUDAD DE MÉXICO', 'TORREON'], dtype=object)"
      ]
     },
     "execution_count": 21,
     "metadata": {},
     "output_type": "execute_result"
    }
   ],
   "source": [
    "df_concatenado.UAD.unique()"
   ]
  },
  {
   "cell_type": "code",
   "execution_count": null,
   "id": "6fa2425c-838e-48bf-9736-8a48ccef5fd8",
   "metadata": {},
   "outputs": [],
   "source": []
  }
 ],
 "metadata": {
  "kernelspec": {
   "display_name": "Python 3 (ipykernel)",
   "language": "python",
   "name": "python3"
  },
  "language_info": {
   "codemirror_mode": {
    "name": "ipython",
    "version": 3
   },
   "file_extension": ".py",
   "mimetype": "text/x-python",
   "name": "python",
   "nbconvert_exporter": "python",
   "pygments_lexer": "ipython3",
   "version": "3.11.5"
  }
 },
 "nbformat": 4,
 "nbformat_minor": 5
}
